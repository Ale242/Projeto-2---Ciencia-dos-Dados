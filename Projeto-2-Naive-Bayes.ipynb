{
 "cells": [
  {
   "cell_type": "markdown",
   "metadata": {},
   "source": [
    "# Projeto 2 - Classificador Automático de Sentimento\n",
    "\n",
    "Você foi contratado por uma empresa parar analisar como os clientes estão reagindo a um determinado produto no Twitter. A empresa deseja que você crie um programa que irá analisar as mensagens disponíveis e classificará como \"relevante\" ou \"irrelevante\". Com isso ela deseja que mensagens negativas, que denigrem o nome do produto, ou que mereçam destaque, disparem um foco de atenção da área de marketing.<br /><br />\n",
    "Como aluno de Ciência dos Dados, você lembrou do Teorema de Bayes, mais especificamente do Classificador Naive-Bayes, que é largamente utilizado em filtros anti-spam de e-mails. O classificador permite calcular qual a probabilidade de uma mensagem ser relevante dadas as palavras em seu conteúdo.<br /><br />\n",
    "Para realizar o MVP (*minimum viable product*) do projeto, você precisa implementar uma versão do classificador que \"aprende\" o que é relevante com uma base de treinamento e compara a performance dos resultados com uma base de testes.<br /><br />\n",
    "Após validado, o seu protótipo poderá também capturar e classificar automaticamente as mensagens da plataforma.\n",
    "\n",
    "## Informações do Projeto\n",
    "\n",
    "Prazo: 19/Set até às 23:59.<br />\n",
    "Grupo: 2 ou 3 pessoas - grupos com 3 pessoas terá uma rubrica diferenciada.<br /><br />\n",
    "Entregáveis via GitHub: \n",
    "* Arquivo notebook com o código do classificador, seguindo as orientações abaixo.\n",
    "* Arquivo Excel com as bases de treinamento e teste totalmente classificado.\n",
    "\n",
    "**NÃO gravar a key do professor no arquivo**\n",
    "\n",
    "\n",
    "### Entrega Intermediária: Check 1 - APS 2\n",
    "\n",
    "Até o dia 10/Set às 23:59, xlsx deve estar no Github com as seguintes evidências: \n",
    "\n",
    "  * Produto escolhido.\n",
    "  * Arquivo Excel contendo a base de treinamento e a base de testes já classificadas.\n",
    "\n",
    "Sugestão de leitura:<br />\n",
    "https://monkeylearn.com/blog/practical-explanation-naive-bayes-classifier/"
   ]
  },
  {
   "cell_type": "markdown",
   "metadata": {},
   "source": [
    "___\n",
    "\n",
    "## Parte I - Adquirindo a Base de Dados\n",
    "\n",
    "Acessar o notebook **Projeto-2-Planilha** para realizar a coleta dos dados. O grupo deve classificar os dados coletados manualmente."
   ]
  },
  {
   "cell_type": "code",
   "execution_count": 38,
   "metadata": {},
   "outputs": [],
   "source": [
    "#Leitura do Excel com os dados\n",
    "\n",
    "import pandas as pd\n",
    "\n",
    "treinamentouber = pd.read_excel('Treinamento - Uber - Excel.xlsx')\n",
    "\n",
    "x = treinamentouber[\"Treinamento\"]"
   ]
  },
  {
   "cell_type": "code",
   "execution_count": 50,
   "metadata": {},
   "outputs": [],
   "source": [
    "#Leitura da base de testes\n",
    "\n",
    "testeuber = pd.read_excel('Testes - Uber - Excel.xlsx')\n",
    "\n",
    "y = testeuber[\"Teste\"]"
   ]
  },
  {
   "cell_type": "markdown",
   "metadata": {},
   "source": [
    "___\n",
    "## Parte II - Montando o Classificador Naive-Bayes\n",
    "\n",
    "Com a base de treinamento montada, comece a desenvolver o classificador. Não se esqueça de implementar o Laplace Smoothing (https://en.wikipedia.org/wiki/Laplace_smoothing).\n",
    "\n",
    "Opcionalmente: \n",
    "* Limpar as mensagens removendo os caracteres: enter, :, \", ', (, ), etc. Não remover emojis.<br />\n",
    "* Corrigir separação de espaços entre palavras e/ou emojis.\n",
    "* Propor outras limpezas/transformações que não afetem a qualidade da informação.\n",
    "\n",
    "Escreva o seu código abaixo:"
   ]
  },
  {
   "cell_type": "code",
   "execution_count": 40,
   "metadata": {},
   "outputs": [],
   "source": [
    "#Agrupamento dos tweets em uma lista apenas\n",
    "\n",
    "listamestre = []\n",
    "\n",
    "for linha in x:\n",
    "    listamestre.append(linha)"
   ]
  },
  {
   "cell_type": "code",
   "execution_count": 41,
   "metadata": {},
   "outputs": [],
   "source": [
    "Caracteresremovidos = [\",\",\".\",\"!\",\":\",\"@\",\"?\",\"(\",\")\",\"_\",\"-\",\"/\"]\n",
    "\n",
    "listacorrigida = []\n",
    "\n",
    "\n",
    "\n",
    "for i in range(len(listamestre)):\n",
    "    for j in Caracteresremovidos:\n",
    "        listamestre[i] = listamestre[i].replace(j,\"\")\n",
    "    \n",
    "for string in listamestre:\n",
    "    listacorrigida.append(string.split())"
   ]
  },
  {
   "cell_type": "code",
   "execution_count": 42,
   "metadata": {},
   "outputs": [],
   "source": [
    "#Criação do dicionário:\n",
    "\n",
    "Dicionário = {}\n",
    "\n",
    "#Criação do contador de palavras:\n",
    "\n",
    "for lista in listacorrigida:\n",
    "    for i in lista:    \n",
    "        if i not in Dicionário:\n",
    "            Dicionário[i] = 1\n",
    "        else:\n",
    "            Dicionário[i] += 1"
   ]
  },
  {
   "cell_type": "code",
   "execution_count": 43,
   "metadata": {},
   "outputs": [],
   "source": [
    "#Contagem de caracteres relacionados à relevância\n",
    "\n",
    "#Junção dos Tweets relevantes ou irrelevantes:\n",
    "\n",
    "ListaRelevante = []\n",
    "ListaIrrelevante = []\n",
    "\n",
    "#Preenchimento das listas:\n",
    "\n",
    "Relevante = treinamentouber[treinamentouber.Classificação==1].Treinamento\n",
    "\n",
    "for linha in Relevante:\n",
    "    ListaRelevante.append(linha)\n",
    "    \n",
    "Irrelevante = treinamentouber[treinamentouber.Classificação==0].Treinamento\n",
    "\n",
    "for linha in Irrelevante:\n",
    "    ListaIrrelevante.append(linha)\n",
    "    \n",
    "DicionárioIrrelevante = {}\n",
    "DicionárioRelevante = {}\n",
    "\n",
    "ListaRelevantePalavra = []\n",
    "ListaIrrelevantePalavra = []\n",
    "\n",
    "#Palavras das frases relevantes:\n",
    "\n",
    "for i in range(len(ListaRelevante)):\n",
    "    for j in Caracteresremovidos:\n",
    "        ListaRelevante[i] = ListaRelevante[i].replace(j,\"\")\n",
    "    \n",
    "for string in ListaRelevante:\n",
    "    ListaRelevantePalavra.append(string.split())\n",
    "\n",
    "#Palavras das frases irrelevantes:\n",
    "\n",
    "for i in range(len(ListaIrrelevante)):\n",
    "    for j in Caracteresremovidos:\n",
    "        ListaIrrelevante[i] = ListaIrrelevante[i].replace(j,\"\")\n",
    "    \n",
    "for string in ListaIrrelevante:\n",
    "    ListaIrrelevantePalavra.append(string.split())\n",
    "    \n",
    "#Criação do contador de palavras:\n",
    "\n",
    "for lista in ListaIrrelevantePalavra:  \n",
    "    for string in lista:\n",
    "        if string not in DicionárioIrrelevante:\n",
    "            DicionárioIrrelevante[string] = 1\n",
    "        else:\n",
    "            DicionárioIrrelevante[string] += 1\n",
    "\n",
    "for lista in ListaRelevantePalavra:    \n",
    "    for string in lista:    \n",
    "        if string not in DicionárioRelevante:\n",
    "            DicionárioRelevante[string] = 1\n",
    "        else:\n",
    "            DicionárioRelevante[string] += 1"
   ]
  },
  {
   "cell_type": "code",
   "execution_count": 44,
   "metadata": {},
   "outputs": [
    {
     "name": "stdout",
     "output_type": "stream",
     "text": [
      "A quantia de palavras irrelevantes é 4816\n",
      "A quantia de palavras relevantes é 1150\n",
      "A quantia de palavras irrelevantes diferentes é 1043\n",
      "A quantia de palavras relevantes diferentes é 495\n",
      "A quantia de palavras diferentes é 1104\n"
     ]
    }
   ],
   "source": [
    "SomaIrrelevante = 0\n",
    "SomaRelevante = 0\n",
    "\n",
    "for quantia in DicionárioIrrelevante:\n",
    "    SomaIrrelevante += DicionárioIrrelevante[quantia]\n",
    "    \n",
    "for quantia in DicionárioRelevante:\n",
    "    SomaRelevante += DicionárioRelevante[quantia]\n",
    "    \n",
    "\n",
    "    \n",
    "VocabDiferente = []\n",
    "    \n",
    "for i in DicionárioRelevante:\n",
    "    if i not in DicionárioIrrelevante:\n",
    "        VocabDiferente.append(i)\n",
    "for i in DicionárioIrrelevante:\n",
    "    if i not in DicionárioRelevante:\n",
    "        VocabDiferente.append(i)\n",
    "        \n",
    "\n",
    "\n",
    "print(\"A quantia de palavras irrelevantes é\", SomaIrrelevante)\n",
    "print(\"A quantia de palavras relevantes é\", SomaRelevante)\n",
    "print(\"A quantia de palavras irrelevantes diferentes é\", len(DicionárioIrrelevante))\n",
    "print(\"A quantia de palavras relevantes diferentes é\", len(DicionárioRelevante))\n",
    "print(\"A quantia de palavras diferentes é\",len(VocabDiferente))"
   ]
  },
  {
   "cell_type": "code",
   "execution_count": 45,
   "metadata": {},
   "outputs": [],
   "source": [
    "listateste = []\n",
    "\n",
    "for linha in y:\n",
    "    listateste.append(linha)"
   ]
  },
  {
   "cell_type": "code",
   "execution_count": 46,
   "metadata": {},
   "outputs": [],
   "source": [
    "#Cálculo da frequência de cada palavra\n",
    "\n",
    "listacorrigidateste = []\n",
    "\n",
    "for i in range(len(listateste)):\n",
    "    for j in Caracteresremovidos:\n",
    "        listateste[i] = listateste[i].replace(j,\"\")\n",
    "    \n",
    "for string in listateste:\n",
    "    listacorrigidateste.append(string.split())\n",
    "\n",
    "def Probabilidade(listacorrigidateste):\n",
    "    \n",
    "    ListaProbabilidadesIrrelevantes = []\n",
    "    ListaProbabilidadesRelevantes = []\n",
    "    \n",
    "    for lista in listacorrigidateste:\n",
    "        ProbabilidadeRelevante = len(ListaRelevante)/(len(ListaIrrelevante)+len(ListaRelevante))\n",
    "        for palavra in lista:\n",
    "            if palavra in DicionárioRelevante:\n",
    "                ProbabilidadeRelevante *= (DicionárioRelevante[palavra]+1)/(SomaRelevante+len(VocabDiferente))\n",
    "            else:\n",
    "                ProbabilidadeRelevante *= 1/(SomaRelevante+len(VocabDiferente))\n",
    "        ListaProbabilidadesRelevantes.append(ProbabilidadeRelevante)\n",
    "                \n",
    "    for lista in listacorrigidateste:\n",
    "        ProbabilidadeIrrelevante = len(ListaIrrelevante)/(len(ListaIrrelevante)+len(ListaRelevante))\n",
    "        for palavra in lista:\n",
    "            if palavra in DicionárioIrrelevante:\n",
    "                ProbabilidadeIrrelevante *= (DicionárioIrrelevante[palavra]+1)/(SomaIrrelevante+len(VocabDiferente))\n",
    "            else:\n",
    "                ProbabilidadeIrrelevante *= 1/(SomaIrrelevante+len(VocabDiferente))\n",
    "        ListaProbabilidadesIrrelevantes.append(ProbabilidadeIrrelevante)\n",
    "    \n",
    "    return ListaProbabilidadesIrrelevantes, ListaProbabilidadesRelevantes\n",
    "\n",
    "ListaProbabilidadesIrrelevantes, ListaProbabilidadesRelevantes = Probabilidade(listacorrigidateste)"
   ]
  },
  {
   "cell_type": "code",
   "execution_count": 47,
   "metadata": {},
   "outputs": [],
   "source": [
    "#Classificação da base de testes\n",
    "\n",
    "ListaClassificação = []\n",
    "ListaTesteRelevantes = []\n",
    "ListaTesteIrrelevantes = []\n",
    "\n",
    "for i in range(0,len(ListaProbabilidadesRelevantes)):\n",
    "    if ListaProbabilidadesIrrelevantes[i]>ListaProbabilidadesRelevantes[i]:\n",
    "        ListaClassificação.append(0)\n",
    "    else:\n",
    "        ListaClassificação.append(1)\n",
    "\n",
    "for i in range(0,len(ListaClassificação)):\n",
    "    if ListaClassificação[i] == 0:\n",
    "        ListaTesteIrrelevantes.append(listateste[i])\n",
    "    elif ListaClassificação[i] == 1:\n",
    "        ListaTesteRelevantes.append(listateste[i])"
   ]
  },
  {
   "cell_type": "code",
   "execution_count": 53,
   "metadata": {},
   "outputs": [
    {
     "name": "stdout",
     "output_type": "stream",
     "text": [
      "106\n",
      "94\n",
      "[0, 1, 0, 1, 0, 0, 0, 1, 0, 1, 1, 1, 1, 0, 1, 1, 1, 1, 1, 0, 0, 0, 1, 1, 0, 1, 1, 0, 1, 0, 0, 0, 1, 0, 0, 1, 1, 0, 1, 0, 0, 1, 1, 0, 0, 1, 1, 0, 1, 1, 1, 1, 0, 0, 0, 1, 1, 0, 1, 0, 0, 0, 0, 1, 0, 0, 1, 1, 0, 0, 1, 0, 1, 1, 1, 0, 1, 0, 1, 0, 0, 1, 0, 1, 1, 1, 0, 1, 0, 1, 0, 1, 0, 0, 0, 1, 1, 0, 1, 0, 1, 1, 0, 0, 0, 1, 0, 1, 1, 0, 1, 0, 1, 1, 0, 1, 0, 1, 1, 1, 1, 1, 1, 1, 0, 1, 0, 0, 0, 0, 0, 0, 1, 0, 1, 0, 0, 1, 0, 1, 0, 1, 0, 1, 0, 0, 0, 0, 0, 1, 0, 0, 1, 1, 1, 0, 0, 0, 1, 0, 1, 0, 0, 1, 1, 1, 1, 0, 1, 0, 0, 1, 1, 1, 1, 1, 1, 1, 0, 1, 0, 0, 1, 0, 1, 1, 0, 0, 1, 1, 1, 1, 1, 1, 1, 1, 0, 0, 1, 1]\n"
     ]
    }
   ],
   "source": [
    "print(len(ListaTesteRelevantes))\n",
    "print(len(ListaTesteIrrelevantes))"
   ]
  },
  {
   "cell_type": "markdown",
   "metadata": {},
   "source": [
    "___\n",
    "## Verificando a performance\n",
    "\n",
    "Agora você deve testar o seu Classificador com a base de Testes.<br /><br /> \n",
    "\n",
    "Você deve extrair as seguintes medidas:\n",
    "* Porcentagem de positivos falsos (marcados como relevante mas não são relevantes)\n",
    "* Porcentagem de positivos verdadeiros (marcado como relevante e são relevantes)\n",
    "* Porcentagem de negativos verdadeiros (marcado como não relevante e não são relevantes)\n",
    "* Porcentagem de negativos falsos (marcado como não relevante e são relevantes)\n",
    "\n",
    "Obrigatório para grupos de 3 alunos:\n",
    "* Criar categorias intermediárias de relevância baseado na diferença de probabilidades. Exemplo: muito relevante, relevante, neutro, irrelevante e muito irrelevante."
   ]
  },
  {
   "cell_type": "code",
   "execution_count": 52,
   "metadata": {
    "scrolled": true
   },
   "outputs": [
    {
     "name": "stdout",
     "output_type": "stream",
     "text": [
      "[1, 0, 0, 0, 0, 0, 0, 0, 0, 1, 0, 1, 0, 0, 0, 1, 0, 0, 0, 0, 0, 0, 0, 1, 0, 0, 0, 0, 0, 0, 0, 0, 1, 0, 0, 0, 0, 0, 1, 0, 0, 0, 0, 0, 0, 0, 0, 0, 0, 0, 0, 0, 0, 0, 0, 0, 1, 0, 0, 0, 0, 0, 1, 0, 0, 0, 0, 0, 0, 0, 0, 0, 1, 0, 0, 0, 1, 0, 1, 0, 0, 0, 0, 0, 0, 1, 0, 0, 0, 0, 0, 0, 0, 0, 0, 0, 1, 0, 0, 0, 0, 1, 0, 0, 0, 1, 0, 0, 0, 0, 0, 0, 1, 0, 0, 1, 1, 1, 0, 1, 0, 0, 1, 0, 0, 0, 0, 0, 1, 0, 0, 0, 1, 0, 0, 0, 1, 0, 0, 0, 0, 1, 0, 0, 0, 0, 0, 0, 0, 0, 0, 0, 0, 1, 0, 0, 0, 0, 0, 0, 0, 0, 0, 1, 1, 1, 0, 0, 1, 0, 0, 1, 0, 0, 0, 1, 0, 1, 0, 0, 0, 0, 0, 0, 0, 0, 0, 0, 0, 1, 1, 1, 0, 0, 0, 0, 0, 0, 0, 0]\n"
     ]
    }
   ],
   "source": [
    "c = testeuber[\"Classificação 1\"]\n",
    "\n",
    "Classificação1 = []\n",
    "\n",
    "for linha in c:\n",
    "    Classificação1.append(linha)"
   ]
  },
  {
   "cell_type": "code",
   "execution_count": 65,
   "metadata": {},
   "outputs": [
    {
     "name": "stdout",
     "output_type": "stream",
     "text": [
      "A quantia de positivos falsos é 74\n",
      "A quantia de positivos verdadeiros é 32\n",
      "A quantia de negativos falsos é 5\n",
      "A quantia de negativos verdadeiros é 89\n",
      "\n",
      "A porcentagem de positivos verdadeiros é 16.0 %\n",
      "A porcentagem de negativos verdadeiros é 44.5 %\n",
      "A porcentagem de positivos falsos é 37.0 %\n",
      "A porcentagem de negativos falsos é 2.5 %\n"
     ]
    }
   ],
   "source": [
    "PositivoFalso = 0\n",
    "PositivoVerdadeiro = 0\n",
    "NegativoFalso = 0\n",
    "NegativoVerdadeiro = 0\n",
    "\n",
    "for i in range(0,len(Classificação1)):\n",
    "    if ListaClassificação[i] == 1:\n",
    "        if ListaClassificação[i] == Classificação1[i]:\n",
    "            PositivoVerdadeiro += 1\n",
    "        elif ListaClassificação[i] != Classificação1[i]:\n",
    "            PositivoFalso += 1\n",
    "    if ListaClassificação[i] == 0:\n",
    "        if ListaClassificação[i] == Classificação1[i]:\n",
    "            NegativoVerdadeiro += 1\n",
    "        elif ListaClassificação[i] != Classificação1[i]:\n",
    "            NegativoFalso += 1\n",
    "            \n",
    "print(\"A quantia de positivos falsos é\", PositivoFalso)\n",
    "print(\"A quantia de positivos verdadeiros é\", PositivoVerdadeiro)\n",
    "print(\"A quantia de negativos falsos é\", NegativoFalso)\n",
    "print(\"A quantia de negativos verdadeiros é\", NegativoVerdadeiro)\n",
    "print()\n",
    "print(\"A porcentagem de positivos verdadeiros é\", 100*PositivoVerdadeiro/200,\"%\")\n",
    "print(\"A porcentagem de negativos verdadeiros é\", 100*NegativoVerdadeiro/200,\"%\")\n",
    "print(\"A porcentagem de positivos falsos é\", 100*PositivoFalso/200,\"%\")\n",
    "print(\"A porcentagem de negativos falsos é\", 100*NegativoFalso/200,\"%\")"
   ]
  },
  {
   "cell_type": "markdown",
   "metadata": {},
   "source": [
    "___\n",
    "## Concluindo\n",
    "\n",
    "Escreva aqui a sua conclusão.<br /> \n",
    "Faça um comparativo qualitativo sobre as medidas obtidas.<br />\n",
    "Explique como são tratadas as mensagens com dupla negação e sarcasmo.<br />\n",
    "Proponha um plano de expansão. Por que eles devem continuar financiando o seu projeto?<br />\n",
    "\n",
    "Opcionalmente: \n",
    "* Discorrer por que não posso alimentar minha base de Treinamento automaticamente usando o próprio classificador, aplicado a novos tweets.\n",
    "* Propor diferentes cenários de uso para o classificador Naive-Bayes. Cenários sem intersecção com este projeto.\n",
    "* Sugerir e explicar melhorias reais no classificador com indicações concretas de como implementar (não é preciso codificar, mas indicar como fazer e material de pesquisa sobre o assunto).\n"
   ]
  },
  {
   "cell_type": "markdown",
   "metadata": {},
   "source": [
    "Após a finalização do projeto e interpretação dos resultado do mesmo, é possível concluir que a execução foi bem sucedida. \n",
    "\n",
    "Com uma taxa extremamente baixa de negativos falsos e alta de negativos verdadeiros, a falha do modelo está na baixa porcentagem de positivos verdadeiros e alta nos positivos falsos. A justificativa para tal falha está no fato de uma pequena base de tweets efetivamente relevantes seja a causa deste apenas o acaso ou interpretação errônea da base de treinamento, entretanto ao considerar a segunda opção, é necessário tomar em conta a base também pequena de 300 tweets, sendo que apenas 60 foram classificados como relevantes, uma correção na avaliação não afetaria muito o número de relevantes. \n",
    "\n",
    "Além dos motivos já citados, há de se considerar as falhas no programa, visto que alguns caracteres não foram devidamente separados, gírias escritas foram consideradas palavras diferentes e ainda, figuras de linguagem não foram consideradas como explicado a seguir. Dentre as figuras de linguagem, duas se destacam, sarcasmo e dupla negação, a explicação para isto está no fato de que o programa lê as frases de maneira literal, sendo assim, ignora qualquer forma de sarcasmo, classificando errado tais frases, quanto à dupla negação, o programa lerá a frase com peso duplo, e ao invés de neutralizar as duas palavras, irá duplicar o peso delas. \n",
    "\n",
    "Entretanto, para contrariar a dupla negação, seria possível implementar um sistema de detecção por proximidade e certas palavras de negação. Já para a figura do sarcasmo, seria necessário identificar um padrão nas frases, como repetição de letras ou agrupamento de sinais de pontuação. \n",
    "\n",
    "Para um plano de expansão, seria interessante adicionar uma identificação de usuário, sendo assim, usuários com a tendência de publicar tweets irrelevantes teriam futuros tweets ignorados e usuários com a tendência de tweets relevantes teriam um peso maior atribuído às suas palavras. O potencial desta expansão está no fato de transformar o projeto de um simples classificador de relevância para um sistema de feedback otimizado e natural. Outrossim, um ainda futuro avanço no plano de expansão seria capaza de classificar separadamente os feedbacks entre ideias, reclamações construtivas e elogios construtivos."
   ]
  }
 ],
 "metadata": {
  "kernelspec": {
   "display_name": "Python 3",
   "language": "python",
   "name": "python3"
  },
  "language_info": {
   "codemirror_mode": {
    "name": "ipython",
    "version": 3
   },
   "file_extension": ".py",
   "mimetype": "text/x-python",
   "name": "python",
   "nbconvert_exporter": "python",
   "pygments_lexer": "ipython3",
   "version": "3.6.4"
  }
 },
 "nbformat": 4,
 "nbformat_minor": 2
}
